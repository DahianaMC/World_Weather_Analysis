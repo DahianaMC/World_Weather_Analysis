{
 "cells": [
  {
   "cell_type": "code",
   "execution_count": 1,
   "metadata": {},
   "outputs": [],
   "source": [
    "# Import the dependencies.\n",
    "import pandas as pd\n",
    "import gmaps\n",
    "import requests\n",
    "# Import the API key.\n",
    "from config import g_key"
   ]
  },
  {
   "cell_type": "code",
   "execution_count": 2,
   "metadata": {},
   "outputs": [
    {
     "data": {
      "text/html": [
       "<div>\n",
       "<style scoped>\n",
       "    .dataframe tbody tr th:only-of-type {\n",
       "        vertical-align: middle;\n",
       "    }\n",
       "\n",
       "    .dataframe tbody tr th {\n",
       "        vertical-align: top;\n",
       "    }\n",
       "\n",
       "    .dataframe thead th {\n",
       "        text-align: right;\n",
       "    }\n",
       "</style>\n",
       "<table border=\"1\" class=\"dataframe\">\n",
       "  <thead>\n",
       "    <tr style=\"text-align: right;\">\n",
       "      <th></th>\n",
       "      <th>City ID</th>\n",
       "      <th>City</th>\n",
       "      <th>Country</th>\n",
       "      <th>Max Temp</th>\n",
       "      <th>Current Description</th>\n",
       "      <th>Lat</th>\n",
       "      <th>Lng</th>\n",
       "      <th>Hotel Name</th>\n",
       "    </tr>\n",
       "  </thead>\n",
       "  <tbody>\n",
       "    <tr>\n",
       "      <th>0</th>\n",
       "      <td>1</td>\n",
       "      <td>Bluff</td>\n",
       "      <td>NZ</td>\n",
       "      <td>53.53</td>\n",
       "      <td>broken clouds</td>\n",
       "      <td>-46.60</td>\n",
       "      <td>168.33</td>\n",
       "      <td>Bluff Homestead - Guesthouse &amp; Campervan Park</td>\n",
       "    </tr>\n",
       "    <tr>\n",
       "      <th>1</th>\n",
       "      <td>2</td>\n",
       "      <td>Nikolskoye</td>\n",
       "      <td>RU</td>\n",
       "      <td>41.00</td>\n",
       "      <td>clear sky</td>\n",
       "      <td>59.70</td>\n",
       "      <td>30.79</td>\n",
       "      <td>Tourist House - Sablino</td>\n",
       "    </tr>\n",
       "    <tr>\n",
       "      <th>2</th>\n",
       "      <td>6</td>\n",
       "      <td>Mataura</td>\n",
       "      <td>NZ</td>\n",
       "      <td>51.67</td>\n",
       "      <td>scattered clouds</td>\n",
       "      <td>-46.19</td>\n",
       "      <td>168.86</td>\n",
       "      <td>Ellie's Villa</td>\n",
       "    </tr>\n",
       "    <tr>\n",
       "      <th>3</th>\n",
       "      <td>11</td>\n",
       "      <td>Ushuaia</td>\n",
       "      <td>AR</td>\n",
       "      <td>44.60</td>\n",
       "      <td>overcast clouds</td>\n",
       "      <td>-54.80</td>\n",
       "      <td>-68.30</td>\n",
       "      <td>Albatros Hotel</td>\n",
       "    </tr>\n",
       "    <tr>\n",
       "      <th>4</th>\n",
       "      <td>13</td>\n",
       "      <td>New Norfolk</td>\n",
       "      <td>AU</td>\n",
       "      <td>48.00</td>\n",
       "      <td>few clouds</td>\n",
       "      <td>-42.78</td>\n",
       "      <td>147.06</td>\n",
       "      <td>The Shingles Riverside Cottages</td>\n",
       "    </tr>\n",
       "    <tr>\n",
       "      <th>...</th>\n",
       "      <td>...</td>\n",
       "      <td>...</td>\n",
       "      <td>...</td>\n",
       "      <td>...</td>\n",
       "      <td>...</td>\n",
       "      <td>...</td>\n",
       "      <td>...</td>\n",
       "      <td>...</td>\n",
       "    </tr>\n",
       "    <tr>\n",
       "      <th>164</th>\n",
       "      <td>516</td>\n",
       "      <td>Stornoway</td>\n",
       "      <td>GB</td>\n",
       "      <td>42.80</td>\n",
       "      <td>light intensity shower rain</td>\n",
       "      <td>58.21</td>\n",
       "      <td>-6.39</td>\n",
       "      <td>Caladh Inn</td>\n",
       "    </tr>\n",
       "    <tr>\n",
       "      <th>165</th>\n",
       "      <td>531</td>\n",
       "      <td>Kyshtovka</td>\n",
       "      <td>RU</td>\n",
       "      <td>58.98</td>\n",
       "      <td>clear sky</td>\n",
       "      <td>56.55</td>\n",
       "      <td>76.63</td>\n",
       "      <td>Uyutnaya Mini-Hotel</td>\n",
       "    </tr>\n",
       "    <tr>\n",
       "      <th>166</th>\n",
       "      <td>534</td>\n",
       "      <td>Olafsvik</td>\n",
       "      <td>IS</td>\n",
       "      <td>37.94</td>\n",
       "      <td>clear sky</td>\n",
       "      <td>64.89</td>\n",
       "      <td>-23.71</td>\n",
       "      <td>Hotel Olafsvik</td>\n",
       "    </tr>\n",
       "    <tr>\n",
       "      <th>167</th>\n",
       "      <td>539</td>\n",
       "      <td>Harrisburg</td>\n",
       "      <td>US</td>\n",
       "      <td>44.01</td>\n",
       "      <td>broken clouds</td>\n",
       "      <td>40.27</td>\n",
       "      <td>-76.88</td>\n",
       "      <td>Hilton Harrisburg</td>\n",
       "    </tr>\n",
       "    <tr>\n",
       "      <th>168</th>\n",
       "      <td>540</td>\n",
       "      <td>Vankleek Hill</td>\n",
       "      <td>CA</td>\n",
       "      <td>39.99</td>\n",
       "      <td>overcast clouds</td>\n",
       "      <td>45.52</td>\n",
       "      <td>-74.65</td>\n",
       "      <td>Maple Lea Farm B &amp; B</td>\n",
       "    </tr>\n",
       "  </tbody>\n",
       "</table>\n",
       "<p>169 rows × 8 columns</p>\n",
       "</div>"
      ],
      "text/plain": [
       "     City ID           City Country  Max Temp          Current Description  \\\n",
       "0          1          Bluff      NZ     53.53                broken clouds   \n",
       "1          2     Nikolskoye      RU     41.00                    clear sky   \n",
       "2          6        Mataura      NZ     51.67             scattered clouds   \n",
       "3         11        Ushuaia      AR     44.60              overcast clouds   \n",
       "4         13    New Norfolk      AU     48.00                   few clouds   \n",
       "..       ...            ...     ...       ...                          ...   \n",
       "164      516      Stornoway      GB     42.80  light intensity shower rain   \n",
       "165      531      Kyshtovka      RU     58.98                    clear sky   \n",
       "166      534       Olafsvik      IS     37.94                    clear sky   \n",
       "167      539     Harrisburg      US     44.01                broken clouds   \n",
       "168      540  Vankleek Hill      CA     39.99              overcast clouds   \n",
       "\n",
       "       Lat     Lng                                     Hotel Name  \n",
       "0   -46.60  168.33  Bluff Homestead - Guesthouse & Campervan Park  \n",
       "1    59.70   30.79                        Tourist House - Sablino  \n",
       "2   -46.19  168.86                                  Ellie's Villa  \n",
       "3   -54.80  -68.30                                 Albatros Hotel  \n",
       "4   -42.78  147.06                The Shingles Riverside Cottages  \n",
       "..     ...     ...                                            ...  \n",
       "164  58.21   -6.39                                     Caladh Inn  \n",
       "165  56.55   76.63                            Uyutnaya Mini-Hotel  \n",
       "166  64.89  -23.71                                 Hotel Olafsvik  \n",
       "167  40.27  -76.88                              Hilton Harrisburg  \n",
       "168  45.52  -74.65                           Maple Lea Farm B & B  \n",
       "\n",
       "[169 rows x 8 columns]"
      ]
     },
     "execution_count": 2,
     "metadata": {},
     "output_type": "execute_result"
    }
   ],
   "source": [
    "# Upload the CSV you saved and was created in Vacation Search.\n",
    "vacation_data_df = pd.read_csv(\"weather_data/WeatherPy_vacation.csv\")\n",
    "vacation_data_df"
   ]
  },
  {
   "cell_type": "code",
   "execution_count": 3,
   "metadata": {},
   "outputs": [
    {
     "data": {
      "text/plain": [
       "City ID                169\n",
       "City                   169\n",
       "Country                169\n",
       "Max Temp               169\n",
       "Current Description    169\n",
       "Lat                    169\n",
       "Lng                    169\n",
       "Hotel Name             169\n",
       "dtype: int64"
      ]
     },
     "execution_count": 3,
     "metadata": {},
     "output_type": "execute_result"
    }
   ],
   "source": [
    "# Verify if the dataframe has NaN values\n",
    "vacation_data_df.isnull().count()"
   ]
  },
  {
   "cell_type": "code",
   "execution_count": 4,
   "metadata": {},
   "outputs": [
    {
     "name": "stdout",
     "output_type": "stream",
     "text": [
      "      Lat     Lng\n",
      "80  37.02  111.91      Lat     Lng\n",
      "84  33.7  118.68       Lat    Lng\n",
      "92  36.67  117.0       Lat    Lng\n",
      "108  42.8  93.45\n"
     ]
    }
   ],
   "source": [
    "# Create cities dataframe for US, then create the cities want to visit\n",
    "cities_to_visit = vacation_data_df[vacation_data_df[\"Country\"] == 'CN']\n",
    "city_A = cities_to_visit.iloc[[1]][[\"Lat\", \"Lng\"]]\n",
    "city_B = cities_to_visit.iloc[[2]][[\"Lat\", \"Lng\"]]\n",
    "city_C = cities_to_visit.iloc[[3]][[\"Lat\", \"Lng\"]]\n",
    "city_D = cities_to_visit.iloc[[4]][[\"Lat\", \"Lng\"]]\n",
    "print(city_A, city_B, city_C, city_D)"
   ]
  },
  {
   "cell_type": "code",
   "execution_count": 5,
   "metadata": {},
   "outputs": [
    {
     "name": "stdout",
     "output_type": "stream",
     "text": [
      "(37.02, 111.91) (33.7, 118.68) (36.67, 117.0) (42.8, 93.45)\n"
     ]
    }
   ],
   "source": [
    "# Create tuples for the cities\n",
    "for rowA in city_A.itertuples(index=False, name=None):\n",
    "    tupleA = rowA\n",
    "for rowB in city_B.itertuples(index=False, name=None):\n",
    "    tupleB = rowB\n",
    "for rowC in city_C.itertuples(index=False, name=None):\n",
    "    tupleC = rowC    \n",
    "for rowD in city_D.itertuples(index=False, name=None):\n",
    "    tupleD = rowD    \n",
    "\n",
    "print(tupleA, tupleB, tupleC, tupleD)\n",
    "\n"
   ]
  },
  {
   "cell_type": "code",
   "execution_count": 6,
   "metadata": {},
   "outputs": [
    {
     "data": {
      "text/html": [
       "<div>\n",
       "<style scoped>\n",
       "    .dataframe tbody tr th:only-of-type {\n",
       "        vertical-align: middle;\n",
       "    }\n",
       "\n",
       "    .dataframe tbody tr th {\n",
       "        vertical-align: top;\n",
       "    }\n",
       "\n",
       "    .dataframe thead th {\n",
       "        text-align: right;\n",
       "    }\n",
       "</style>\n",
       "<table border=\"1\" class=\"dataframe\">\n",
       "  <thead>\n",
       "    <tr style=\"text-align: right;\">\n",
       "      <th></th>\n",
       "      <th>City ID</th>\n",
       "      <th>City</th>\n",
       "      <th>Country</th>\n",
       "      <th>Max Temp</th>\n",
       "      <th>Current Description</th>\n",
       "      <th>Lat</th>\n",
       "      <th>Lng</th>\n",
       "      <th>Hotel Name</th>\n",
       "    </tr>\n",
       "  </thead>\n",
       "  <tbody>\n",
       "    <tr>\n",
       "      <th>108</th>\n",
       "      <td>337</td>\n",
       "      <td>Hami</td>\n",
       "      <td>CN</td>\n",
       "      <td>54.39</td>\n",
       "      <td>clear sky</td>\n",
       "      <td>42.80</td>\n",
       "      <td>93.45</td>\n",
       "      <td>Laoyutang Resort</td>\n",
       "    </tr>\n",
       "    <tr>\n",
       "      <th>92</th>\n",
       "      <td>293</td>\n",
       "      <td>Jinan</td>\n",
       "      <td>CN</td>\n",
       "      <td>59.00</td>\n",
       "      <td>clear sky</td>\n",
       "      <td>36.67</td>\n",
       "      <td>117.00</td>\n",
       "      <td>Sofitel Silver Plaza Hotel Jinan</td>\n",
       "    </tr>\n",
       "    <tr>\n",
       "      <th>84</th>\n",
       "      <td>263</td>\n",
       "      <td>Zhongxing</td>\n",
       "      <td>CN</td>\n",
       "      <td>57.97</td>\n",
       "      <td>scattered clouds</td>\n",
       "      <td>33.70</td>\n",
       "      <td>118.68</td>\n",
       "      <td>New Century Grand Hotel Siyang</td>\n",
       "    </tr>\n",
       "    <tr>\n",
       "      <th>80</th>\n",
       "      <td>246</td>\n",
       "      <td>Jiexiu</td>\n",
       "      <td>CN</td>\n",
       "      <td>54.16</td>\n",
       "      <td>clear sky</td>\n",
       "      <td>37.02</td>\n",
       "      <td>111.91</td>\n",
       "      <td>IU Hotel Jinzhong Yuhua Road</td>\n",
       "    </tr>\n",
       "  </tbody>\n",
       "</table>\n",
       "</div>"
      ],
      "text/plain": [
       "     City ID       City Country  Max Temp Current Description    Lat     Lng  \\\n",
       "108      337       Hami      CN     54.39           clear sky  42.80   93.45   \n",
       "92       293      Jinan      CN     59.00           clear sky  36.67  117.00   \n",
       "84       263  Zhongxing      CN     57.97    scattered clouds  33.70  118.68   \n",
       "80       246     Jiexiu      CN     54.16           clear sky  37.02  111.91   \n",
       "\n",
       "                           Hotel Name  \n",
       "108                  Laoyutang Resort  \n",
       "92   Sofitel Silver Plaza Hotel Jinan  \n",
       "84     New Century Grand Hotel Siyang  \n",
       "80       IU Hotel Jinzhong Yuhua Road  "
      ]
     },
     "execution_count": 6,
     "metadata": {},
     "output_type": "execute_result"
    }
   ],
   "source": [
    "# Adding cities to \n",
    "city_df1 = cities_to_visit.iloc[[1]]\n",
    "city_df2 = cities_to_visit.iloc[[2]].append(city_df1)\n",
    "city_df3 = cities_to_visit.iloc[[3]].append(city_df2)\n",
    "cities_df = cities_to_visit.iloc[[4]].append(city_df3)\n",
    "cities_df"
   ]
  },
  {
   "cell_type": "code",
   "execution_count": 7,
   "metadata": {},
   "outputs": [],
   "source": [
    "# Adding a pop-up marker including: Hotel Name, City, Country and weather description\n",
    "info_box_template = \"\"\"\n",
    "<dl>\n",
    "<dt>Hotel Name</dt><dd>{Hotel Name}</dd>\n",
    "<dt>City</dt><dd>{City}</dd>\n",
    "<dt>Country</dt><dd>{Country}</dd>\n",
    "<dt>Current Description</dt><dd>{Current Description} and {Max Temp} °F</dd>\n",
    "</dl>\n",
    "\"\"\""
   ]
  },
  {
   "cell_type": "code",
   "execution_count": 8,
   "metadata": {},
   "outputs": [],
   "source": [
    "# Store the DataFrame Row.\n",
    "cities_info = [info_box_template.format(**row) for index, row in cities_df.iterrows()]"
   ]
  },
  {
   "cell_type": "code",
   "execution_count": 9,
   "metadata": {
    "scrolled": true
   },
   "outputs": [
    {
     "data": {
      "application/vnd.jupyter.widget-view+json": {
       "model_id": "881cff23982347efa438435255e6e5c7",
       "version_major": 2,
       "version_minor": 0
      },
      "text/plain": [
       "Figure(layout=FigureLayout(height='420px'))"
      ]
     },
     "metadata": {},
     "output_type": "display_data"
    }
   ],
   "source": [
    "gmaps.configure(api_key=g_key)\n",
    "# Create a marker layer map.\n",
    "locations = cities_df[[\"Lat\", \"Lng\"]] \n",
    "fig = gmaps.figure()\n",
    "route = gmaps.directions_layer(tupleB, tupleD, waypoints=[tupleC, tupleA], travel_mode='DRIVING',\n",
    "                              show_markers=False)\n",
    "fig.add_layer(route)\n",
    "marker_layer = gmaps.marker_layer(locations, info_box_content=cities_info)\n",
    "fig.add_layer(marker_layer)\n",
    "# Call the figure to plot the data.\n",
    "fig"
   ]
  }
 ],
 "metadata": {
  "kernelspec": {
   "display_name": "PythonData",
   "language": "python",
   "name": "pythondata"
  },
  "language_info": {
   "codemirror_mode": {
    "name": "ipython",
    "version": 3
   },
   "file_extension": ".py",
   "mimetype": "text/x-python",
   "name": "python",
   "nbconvert_exporter": "python",
   "pygments_lexer": "ipython3",
   "version": "3.7.7"
  }
 },
 "nbformat": 4,
 "nbformat_minor": 4
}
